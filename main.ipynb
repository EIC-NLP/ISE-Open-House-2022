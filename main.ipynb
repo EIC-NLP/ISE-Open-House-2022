{
 "cells": [
  {
   "cell_type": "code",
   "execution_count": 23,
   "metadata": {},
   "outputs": [],
   "source": [
    "# from functools import cache, lru_cache\n",
    "from cvzone.HandTrackingModule import HandDetector\n",
    "import numpy as np\n",
    "import cv2\n",
    "import cvzone\n",
    "import random\n",
    "import math\n",
    "\n",
    "\n",
    "CAMERA_PORT = 0\n",
    "[X_RESOLUTION, Y_RESOLUTION, VIDEO_FPS] = [1280, 720, 30]\n",
    "\n",
    "def initialise_video_capture():\n",
    "    global cap\n",
    "    cap = cv2.VideoCapture(CAMERA_PORT)  #! change the webcam device\n",
    "    cap.set(3, X_RESOLUTION)\n",
    "    cap.set(4, Y_RESOLUTION)\n",
    "    cap.set(5, VIDEO_FPS)\n",
    "initialise_video_capture()\n",
    "\n",
    "detector = HandDetector(detectionCon=0.8, maxHands=1)\n"
   ]
  },
  {
   "cell_type": "code",
   "execution_count": 26,
   "metadata": {},
   "outputs": [
    {
     "name": "stdout",
     "output_type": "stream",
     "text": [
      "False\n"
     ]
    }
   ],
   "source": [
    "class SnakeGameClass:\n",
    "    def __init__(self, pathFood):\n",
    "        self.points = []  # all points of the snake\n",
    "        self.lengths = []  # distance between each point\n",
    "        self.currentLength = 0  # total length of the snake\n",
    "        self.allowedLength = 150  # total allowed Length\n",
    "        self.previousHead = 0, 0  # previous head point\n",
    "\n",
    "        self.imgFood = cv2.imread(pathFood, cv2.IMREAD_UNCHANGED)\n",
    "        self.hFood, self.wFood, _ = self.imgFood.shape\n",
    "        self.foodPoint = 0, 0\n",
    "        self.randomFoodLocation()\n",
    "\n",
    "        self.score = 0\n",
    "        self.gameOver = False\n",
    "\n",
    "    def randomFoodLocation(self):\n",
    "        self.foodPoint = random.randint(100, 1000), random.randint(100, 600)\n",
    "\n",
    "    def update(self, imgMain, currentHead):\n",
    "\n",
    "        if self.gameOver:\n",
    "            cvzone.putTextRect(imgMain, \"Game Over\", [300, 400],\n",
    "                               scale=7, thickness=5, offset=20)\n",
    "            cvzone.putTextRect(imgMain, f'Your Score: {self.score}', [300, 550],\n",
    "                               scale=7, thickness=5, offset=20)\n",
    "        else:\n",
    "            px, py = self.previousHead\n",
    "            cx, cy = currentHead\n",
    "\n",
    "            self.points.append([cx, cy])\n",
    "            distance = math.hypot(cx - px, cy - py)\n",
    "            self.lengths.append(distance)\n",
    "            self.currentLength += distance\n",
    "            self.previousHead = cx, cy\n",
    "\n",
    "            # Length Reduction\n",
    "            if self.currentLength > self.allowedLength:\n",
    "                for i, length in enumerate(self.lengths):\n",
    "                    self.currentLength -= length\n",
    "                    self.lengths.pop(i)\n",
    "                    self.points.pop(i)\n",
    "                    if self.currentLength < self.allowedLength:\n",
    "                        break\n",
    "\n",
    "            # Check if snake ate the Food\n",
    "            rx, ry = self.foodPoint\n",
    "            if rx - self.wFood // 2 < cx < rx + self.wFood // 2 and \\\n",
    "                    ry - self.hFood // 2 < cy < ry + self.hFood // 2:\n",
    "                self.randomFoodLocation()\n",
    "                self.allowedLength += 50\n",
    "                self.score += 1\n",
    "                print(self.score)\n",
    "\n",
    "            # Draw Snake\n",
    "            if self.points:\n",
    "                for i, point in enumerate(self.points):\n",
    "                    if i != 0:\n",
    "                        cv2.line(\n",
    "                            imgMain, self.points[i - 1], self.points[i], (0, 0, 255), 20)\n",
    "                cv2.circle(imgMain, self.points[-1],\n",
    "                           20, (0, 255, 0), cv2.FILLED)\n",
    "\n",
    "            # Draw Food\n",
    "            imgMain = cvzone.overlayPNG(imgMain, self.imgFood,\n",
    "                                        (rx - self.wFood // 2, ry - self.hFood // 2))\n",
    "\n",
    "            cvzone.putTextRect(imgMain, f'Score: {self.score}', [50, 80],\n",
    "                               scale=3, thickness=3, offset=10)\n",
    "\n",
    "            # Check for Collision\n",
    "            pts = np.array(self.points[:-2], np.int32)\n",
    "            pts = pts.reshape((-1, 1, 2))\n",
    "            cv2.polylines(imgMain, [pts], False, (0, 255, 0), 3)\n",
    "            minDist = cv2.pointPolygonTest(pts, (cx, cy), True)\n",
    "\n",
    "            if -1 <= minDist <= 1:\n",
    "                print(\"Hit\")\n",
    "                self.gameOver = True\n",
    "                self.points = []  # all points of the snake\n",
    "                self.lengths = []  # distance between each point\n",
    "                self.currentLength = 0  # total length of the snake\n",
    "                self.allowedLength = 150  # total allowed Length\n",
    "                self.previousHead = 0, 0  # previous head point\n",
    "                self.randomFoodLocation()\n",
    "\n",
    "        return imgMain\n",
    "# FOOD_IMAGE = \"eic8.png\"\n",
    "#! NOTE: The image must be semi-transparent. A mask is required for the image. \n",
    "#* AKA no sqaure images only circle or other shapes\n",
    "\n",
    "FOOD_IMAGE = \"eic8.png\"\n",
    "\n",
    "game = SnakeGameClass(FOOD_IMAGE)\n",
    "print(game.imgFood is None)"
   ]
  },
  {
   "cell_type": "code",
   "execution_count": 27,
   "metadata": {},
   "outputs": [
    {
     "name": "stdout",
     "output_type": "stream",
     "text": [
      "1\n",
      "Hit\n"
     ]
    },
    {
     "ename": "KeyboardInterrupt",
     "evalue": "",
     "output_type": "error",
     "traceback": [
      "\u001b[1;31m---------------------------------------------------------------------------\u001b[0m",
      "\u001b[1;31mKeyboardInterrupt\u001b[0m                         Traceback (most recent call last)",
      "\u001b[1;32m<ipython-input-27-81fe9e6d362e>\u001b[0m in \u001b[0;36m<module>\u001b[1;34m\u001b[0m\n\u001b[0;32m      2\u001b[0m     \u001b[0msuccess\u001b[0m\u001b[1;33m,\u001b[0m \u001b[0mimg\u001b[0m \u001b[1;33m=\u001b[0m \u001b[0mcap\u001b[0m\u001b[1;33m.\u001b[0m\u001b[0mread\u001b[0m\u001b[1;33m(\u001b[0m\u001b[1;33m)\u001b[0m\u001b[1;33m\u001b[0m\u001b[1;33m\u001b[0m\u001b[0m\n\u001b[0;32m      3\u001b[0m     \u001b[0mimg\u001b[0m \u001b[1;33m=\u001b[0m \u001b[0mcv2\u001b[0m\u001b[1;33m.\u001b[0m\u001b[0mflip\u001b[0m\u001b[1;33m(\u001b[0m\u001b[0mimg\u001b[0m\u001b[1;33m,\u001b[0m \u001b[1;36m1\u001b[0m\u001b[1;33m)\u001b[0m\u001b[1;33m\u001b[0m\u001b[1;33m\u001b[0m\u001b[0m\n\u001b[1;32m----> 4\u001b[1;33m     \u001b[0mhands\u001b[0m\u001b[1;33m,\u001b[0m \u001b[0mimg\u001b[0m \u001b[1;33m=\u001b[0m \u001b[0mdetector\u001b[0m\u001b[1;33m.\u001b[0m\u001b[0mfindHands\u001b[0m\u001b[1;33m(\u001b[0m\u001b[0mimg\u001b[0m\u001b[1;33m,\u001b[0m \u001b[0mflipType\u001b[0m\u001b[1;33m=\u001b[0m\u001b[1;32mFalse\u001b[0m\u001b[1;33m)\u001b[0m\u001b[1;33m\u001b[0m\u001b[1;33m\u001b[0m\u001b[0m\n\u001b[0m\u001b[0;32m      5\u001b[0m \u001b[1;33m\u001b[0m\u001b[0m\n\u001b[0;32m      6\u001b[0m     \u001b[1;32mif\u001b[0m \u001b[0mhands\u001b[0m\u001b[1;33m:\u001b[0m\u001b[1;33m\u001b[0m\u001b[1;33m\u001b[0m\u001b[0m\n",
      "\u001b[1;32mg:\\Anaconda3\\lib\\site-packages\\cvzone\\HandTrackingModule.py\u001b[0m in \u001b[0;36mfindHands\u001b[1;34m(self, img, draw, flipType)\u001b[0m\n\u001b[0;32m     47\u001b[0m         \"\"\"\n\u001b[0;32m     48\u001b[0m         \u001b[0mimgRGB\u001b[0m \u001b[1;33m=\u001b[0m \u001b[0mcv2\u001b[0m\u001b[1;33m.\u001b[0m\u001b[0mcvtColor\u001b[0m\u001b[1;33m(\u001b[0m\u001b[0mimg\u001b[0m\u001b[1;33m,\u001b[0m \u001b[0mcv2\u001b[0m\u001b[1;33m.\u001b[0m\u001b[0mCOLOR_BGR2RGB\u001b[0m\u001b[1;33m)\u001b[0m\u001b[1;33m\u001b[0m\u001b[1;33m\u001b[0m\u001b[0m\n\u001b[1;32m---> 49\u001b[1;33m         \u001b[0mself\u001b[0m\u001b[1;33m.\u001b[0m\u001b[0mresults\u001b[0m \u001b[1;33m=\u001b[0m \u001b[0mself\u001b[0m\u001b[1;33m.\u001b[0m\u001b[0mhands\u001b[0m\u001b[1;33m.\u001b[0m\u001b[0mprocess\u001b[0m\u001b[1;33m(\u001b[0m\u001b[0mimgRGB\u001b[0m\u001b[1;33m)\u001b[0m\u001b[1;33m\u001b[0m\u001b[1;33m\u001b[0m\u001b[0m\n\u001b[0m\u001b[0;32m     50\u001b[0m         \u001b[0mallHands\u001b[0m \u001b[1;33m=\u001b[0m \u001b[1;33m[\u001b[0m\u001b[1;33m]\u001b[0m\u001b[1;33m\u001b[0m\u001b[1;33m\u001b[0m\u001b[0m\n\u001b[0;32m     51\u001b[0m         \u001b[0mh\u001b[0m\u001b[1;33m,\u001b[0m \u001b[0mw\u001b[0m\u001b[1;33m,\u001b[0m \u001b[0mc\u001b[0m \u001b[1;33m=\u001b[0m \u001b[0mimg\u001b[0m\u001b[1;33m.\u001b[0m\u001b[0mshape\u001b[0m\u001b[1;33m\u001b[0m\u001b[1;33m\u001b[0m\u001b[0m\n",
      "\u001b[1;32mg:\\Anaconda3\\lib\\site-packages\\mediapipe\\python\\solutions\\hands.py\u001b[0m in \u001b[0;36mprocess\u001b[1;34m(self, image)\u001b[0m\n\u001b[0;32m    151\u001b[0m     \"\"\"\n\u001b[0;32m    152\u001b[0m \u001b[1;33m\u001b[0m\u001b[0m\n\u001b[1;32m--> 153\u001b[1;33m     \u001b[1;32mreturn\u001b[0m \u001b[0msuper\u001b[0m\u001b[1;33m(\u001b[0m\u001b[1;33m)\u001b[0m\u001b[1;33m.\u001b[0m\u001b[0mprocess\u001b[0m\u001b[1;33m(\u001b[0m\u001b[0minput_data\u001b[0m\u001b[1;33m=\u001b[0m\u001b[1;33m{\u001b[0m\u001b[1;34m'image'\u001b[0m\u001b[1;33m:\u001b[0m \u001b[0mimage\u001b[0m\u001b[1;33m}\u001b[0m\u001b[1;33m)\u001b[0m\u001b[1;33m\u001b[0m\u001b[1;33m\u001b[0m\u001b[0m\n\u001b[0m",
      "\u001b[1;32mg:\\Anaconda3\\lib\\site-packages\\mediapipe\\python\\solution_base.py\u001b[0m in \u001b[0;36mprocess\u001b[1;34m(self, input_data)\u001b[0m\n\u001b[0;32m    364\u001b[0m                                      data).at(self._simulated_timestamp))\n\u001b[0;32m    365\u001b[0m \u001b[1;33m\u001b[0m\u001b[0m\n\u001b[1;32m--> 366\u001b[1;33m     \u001b[0mself\u001b[0m\u001b[1;33m.\u001b[0m\u001b[0m_graph\u001b[0m\u001b[1;33m.\u001b[0m\u001b[0mwait_until_idle\u001b[0m\u001b[1;33m(\u001b[0m\u001b[1;33m)\u001b[0m\u001b[1;33m\u001b[0m\u001b[1;33m\u001b[0m\u001b[0m\n\u001b[0m\u001b[0;32m    367\u001b[0m     \u001b[1;31m# Create a NamedTuple object where the field names are mapping to the graph\u001b[0m\u001b[1;33m\u001b[0m\u001b[1;33m\u001b[0m\u001b[1;33m\u001b[0m\u001b[0m\n\u001b[0;32m    368\u001b[0m     \u001b[1;31m# output stream names.\u001b[0m\u001b[1;33m\u001b[0m\u001b[1;33m\u001b[0m\u001b[1;33m\u001b[0m\u001b[0m\n",
      "\u001b[1;31mKeyboardInterrupt\u001b[0m: "
     ]
    }
   ],
   "source": [
    "while True:\n",
    "    success, img = cap.read()\n",
    "    img = cv2.flip(img, 1)\n",
    "    hands, img = detector.findHands(img, flipType=False)\n",
    "\n",
    "    if hands:\n",
    "        lmList = hands[0]['lmList']\n",
    "        pointIndex = lmList[8][0:2]\n",
    "        img = game.update(img, pointIndex)\n",
    "    cv2.imshow(\"Image\", img)\n",
    "    key = cv2.waitKey(1)\n",
    "    if key == ord('r'):\n",
    "        game.gameOver = False\n"
   ]
  }
 ],
 "metadata": {
  "kernelspec": {
   "display_name": "Python 3.8.8 ('base')",
   "language": "python",
   "name": "python3"
  },
  "language_info": {
   "codemirror_mode": {
    "name": "ipython",
    "version": 3
   },
   "file_extension": ".py",
   "mimetype": "text/x-python",
   "name": "python",
   "nbconvert_exporter": "python",
   "pygments_lexer": "ipython3",
   "version": "3.8.8"
  },
  "orig_nbformat": 4,
  "vscode": {
   "interpreter": {
    "hash": "47d07805017818fe819d54216b72a299446c942bfaef9f2faeadc41e1b7882da"
   }
  }
 },
 "nbformat": 4,
 "nbformat_minor": 2
}
